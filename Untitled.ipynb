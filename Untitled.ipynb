{
 "cells": [
  {
   "cell_type": "code",
   "execution_count": 6,
   "metadata": {
    "collapsed": false
   },
   "outputs": [
    {
     "name": "stdout",
     "output_type": "stream",
     "text": [
      "Enter input:3\n",
      "111\n",
      "101\n",
      "111\n"
     ]
    }
   ],
   "source": [
    "a=int(raw_input(\"Enter input:\"))\n",
    "if a>=3:\n",
    "    print \"1\"*a\n",
    "    s=\"1\"+\"0\"*(a-2)+\"1\"\n",
    "    for i in range(1,a-1):\n",
    "        print s\n",
    "    print \"1\"*a\n",
    "else:\n",
    "    print \"Invalid number\""
   ]
  },
  {
   "cell_type": "code",
   "execution_count": null,
   "metadata": {
    "collapsed": true
   },
   "outputs": [],
   "source": []
  }
 ],
 "metadata": {
  "kernelspec": {
   "display_name": "Python [Root]",
   "language": "python",
   "name": "Python [Root]"
  },
  "language_info": {
   "codemirror_mode": {
    "name": "ipython",
    "version": 2
   },
   "file_extension": ".py",
   "mimetype": "text/x-python",
   "name": "python",
   "nbconvert_exporter": "python",
   "pygments_lexer": "ipython2",
   "version": "2.7.12"
  }
 },
 "nbformat": 4,
 "nbformat_minor": 0
}
