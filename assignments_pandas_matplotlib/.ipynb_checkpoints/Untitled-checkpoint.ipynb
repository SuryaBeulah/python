{
 "cells": [
  {
   "cell_type": "code",
   "execution_count": 9,
   "metadata": {
    "collapsed": false
   },
   "outputs": [
    {
     "name": "stdout",
     "output_type": "stream",
     "text": [
      "Enter the number of car instances:\t3\n",
      "Enter the make,model,type,rating:\tmake1,model1,type1,rating1\n",
      "Enter the make,model,type,rating:\tmake1,model1,type1,rating1\n",
      "Enter the make,model,type,rating:\tmake1,model1,type1,rating1\n"
     ]
    },
    {
     "data": {
      "text/html": [
       "<div>\n",
       "<table border=\"1\" class=\"dataframe\">\n",
       "  <thead>\n",
       "    <tr style=\"text-align: right;\">\n",
       "      <th></th>\n",
       "      <th></th>\n",
       "      <th>rating</th>\n",
       "      <th>rating1</th>\n",
       "    </tr>\n",
       "    <tr>\n",
       "      <th>make</th>\n",
       "      <th>model</th>\n",
       "      <th>type</th>\n",
       "      <th></th>\n",
       "    </tr>\n",
       "  </thead>\n",
       "  <tbody>\n",
       "    <tr>\n",
       "      <th>make1</th>\n",
       "      <th>model1</th>\n",
       "      <th>type1</th>\n",
       "      <td>NaN</td>\n",
       "    </tr>\n",
       "  </tbody>\n",
       "</table>\n",
       "</div>"
      ],
      "text/plain": [
       "rating              rating1\n",
       "make  model  type          \n",
       "make1 model1 type1      NaN"
      ]
     },
     "execution_count": 9,
     "metadata": {},
     "output_type": "execute_result"
    }
   ],
   "source": [
    "import pandas as pd\n",
    "list_of_cars = []\n",
    "no_of_instances = input('Enter the number of car instances:\\t')\n",
    "# Inputs \"Make1,model1,typ1,A\"\n",
    "for i in range(no_of_instances):\n",
    "    list1=['make','model','type','rating']\n",
    "    ip = raw_input(\"Enter the make,model,type,rating:\\t\")\n",
    "    lz = ip.split(',')\n",
    "    dict_list = zip(list1, lz)\n",
    "    d= dict(dict_list)        \n",
    "    list_of_cars.append(d)\n",
    "df = pd.DataFrame(list_of_cars)\n",
    "rating_probs = df.groupby('rating').size().div(len(df))\n",
    "#type_probs= df.groupby(['make','model','type', 'rating']).size().div(len(df)).div(rating_probs, axis=0, level=1)\n",
    "type_probs.unstack()"
   ]
  },
  {
   "cell_type": "code",
   "execution_count": null,
   "metadata": {
    "collapsed": true
   },
   "outputs": [],
   "source": []
  }
 ],
 "metadata": {
  "kernelspec": {
   "display_name": "Python 2",
   "language": "python",
   "name": "python2"
  },
  "language_info": {
   "codemirror_mode": {
    "name": "ipython",
    "version": 2
   },
   "file_extension": ".py",
   "mimetype": "text/x-python",
   "name": "python",
   "nbconvert_exporter": "python",
   "pygments_lexer": "ipython2",
   "version": "2.7.11"
  }
 },
 "nbformat": 4,
 "nbformat_minor": 0
}
